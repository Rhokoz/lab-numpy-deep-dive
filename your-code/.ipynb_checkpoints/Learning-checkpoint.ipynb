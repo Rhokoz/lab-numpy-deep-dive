{
 "cells": [
  {
   "cell_type": "markdown",
   "metadata": {},
   "source": [
    "# Introduction to Numpy\n",
    "\n",
    "Lesson Goals\n",
    "\n",
    "    Learn about Numpy data structures.\n",
    "    Extract data from Numpy arrays.\n",
    "    Convert other Python data structures to Numpy arrays.\n",
    "    Perform basic mathematical functions on arrays and elements.\n",
    "\n",
    "Introduction\n",
    "\n",
    "Many of the libraries you will use to perform data analysis in Python, as well as many of the mathematical functions you'll use, will involve working with Numpy. Numpy (short for Numerical Python) is used for numeric computing and includes support for multi-dimensional arrays and matrices along with a variety of mathematical functions to apply to them. In this lesson, we will learn about Numpy's primary data structures and how to apply some basic math functions to them.\n",
    "Importing Numpy\n",
    "\n",
    "In order to use Numpy, you must first import it. It is common to also alias it to np using the as keyword so that you don't have to spell out \"numpy\" every time you want to call one of its methods. "
   ]
  },
  {
   "cell_type": "code",
   "execution_count": 1,
   "metadata": {},
   "outputs": [],
   "source": [
    "import numpy as np"
   ]
  },
  {
   "cell_type": "markdown",
   "metadata": {},
   "source": [
    "Once the library has been imported, it is ready to use.\n",
    "Numpy Arrays\n",
    "\n",
    "The basic data structures in Numpy are arrays, which can be used to represent tabular data. You can think of arrays as lists of lists, where all the elements of a list are of the same type (typically numeric since the reason you use Numpy is to do numeric computing). A matrix is just a two-dimensional array.\n",
    "\n",
    "The size of an array is the total number of elements in every list. The shape of an array is the size of the array along each dimension (e.g. number of rows and number of columns for a two-dimensional array). Let's create a two dimensional 10 x 4 array containing random numbers and calculate the shape and size of the array using the shape and size methods. "
   ]
  },
  {
   "cell_type": "code",
   "execution_count": 2,
   "metadata": {},
   "outputs": [
    {
     "name": "stdout",
     "output_type": "stream",
     "text": [
      "[[0.34622617 0.81502734 0.74378263 0.16425438]\n",
      " [0.87229777 0.73975867 0.81723327 0.2914468 ]\n",
      " [0.07242274 0.43525201 0.84507514 0.81788278]\n",
      " [0.02713513 0.45480828 0.00970652 0.54362311]\n",
      " [0.32966807 0.13382834 0.6486376  0.96796166]\n",
      " [0.91307546 0.1249099  0.89779429 0.15844367]\n",
      " [0.66930281 0.91586009 0.00486736 0.06491215]\n",
      " [0.36160088 0.77331758 0.8270524  0.81242677]\n",
      " [0.72974385 0.66701198 0.15525732 0.39336095]\n",
      " [0.10887125 0.12582221 0.53230788 0.24328834]]\n"
     ]
    }
   ],
   "source": [
    "a = np.random.random((10,4))\n",
    "print(a)"
   ]
  },
  {
   "cell_type": "code",
   "execution_count": 3,
   "metadata": {},
   "outputs": [
    {
     "name": "stdout",
     "output_type": "stream",
     "text": [
      "(10, 4)\n",
      "40\n"
     ]
    }
   ],
   "source": [
    "print(a.shape)\n",
    "print(a.size)"
   ]
  },
  {
   "cell_type": "markdown",
   "metadata": {},
   "source": [
    "As you can see, the array has a shape of 10 x 4 (just as we specified) and the total number of elements in the array is 40.\n",
    "\n",
    "Now that we have seen an example of a basic two-dimensional array (a matrix), let's learn about how creating arrays with more dimensions than two works in Numpy. Let's build a three-dimensional array of random numbers and see what that looks like."
   ]
  },
  {
   "cell_type": "code",
   "execution_count": 4,
   "metadata": {},
   "outputs": [
    {
     "name": "stdout",
     "output_type": "stream",
     "text": [
      "[[[0.56796687 0.24891905 0.19620719]\n",
      "  [0.7822965  0.22596766 0.88374491]]\n",
      "\n",
      " [[0.02953992 0.75904129 0.5656759 ]\n",
      "  [0.11639552 0.71239043 0.10798818]]\n",
      "\n",
      " [[0.73751346 0.51279643 0.52746092]\n",
      "  [0.88310674 0.79829152 0.78536411]]\n",
      "\n",
      " [[0.78303133 0.67200579 0.8011696 ]\n",
      "  [0.02710327 0.53735641 0.32620145]]\n",
      "\n",
      " [[0.01205017 0.83124833 0.92894846]\n",
      "  [0.72775529 0.95396391 0.24749947]]]\n"
     ]
    }
   ],
   "source": [
    "b = np.random.random((5,2,3))\n",
    "print(b)"
   ]
  },
  {
   "cell_type": "markdown",
   "metadata": {},
   "source": [
    "This created an array with five groups of 2 x 3 matrices. Let's see what happens if we pass four dimensions."
   ]
  },
  {
   "cell_type": "code",
   "execution_count": 5,
   "metadata": {},
   "outputs": [
    {
     "name": "stdout",
     "output_type": "stream",
     "text": [
      "[[[[0.73973572 0.16030336 0.3520629  0.28078444 0.79028223]\n",
      "   [0.95115774 0.28930547 0.86727086 0.07173326 0.7466857 ]\n",
      "   [0.49792717 0.32512506 0.11171126 0.54775563 0.18976456]\n",
      "   [0.64664058 0.7240926  0.73311433 0.52800461 0.66681562]]\n",
      "\n",
      "  [[0.17740436 0.05151986 0.52629689 0.49279716 0.81477555]\n",
      "   [0.25323881 0.51770237 0.41081524 0.92897687 0.4919006 ]\n",
      "   [0.0632122  0.22796592 0.68224498 0.47606508 0.13277989]\n",
      "   [0.09985716 0.24868238 0.06591078 0.13135181 0.2407523 ]]\n",
      "\n",
      "  [[0.57287688 0.99311831 0.65456242 0.37435639 0.58155954]\n",
      "   [0.82356628 0.66773055 0.07917311 0.1662544  0.89124507]\n",
      "   [0.89192042 0.81658026 0.88682704 0.90978297 0.83894511]\n",
      "   [0.68032872 0.20052777 0.18259319 0.43613622 0.36787318]]]\n",
      "\n",
      "\n",
      " [[[0.56086842 0.31859211 0.07379422 0.97583035 0.99289539]\n",
      "   [0.71988845 0.20097151 0.40730629 0.9763369  0.4144907 ]\n",
      "   [0.57673041 0.73847362 0.64544334 0.85941277 0.18160624]\n",
      "   [0.1002756  0.95854287 0.15588115 0.70669081 0.66328433]]\n",
      "\n",
      "  [[0.15088857 0.43595526 0.2410892  0.07742392 0.49612696]\n",
      "   [0.03100971 0.22224091 0.22785626 0.27089793 0.58374221]\n",
      "   [0.76760577 0.66138774 0.74496401 0.02870484 0.70426002]\n",
      "   [0.64123957 0.17448663 0.62418652 0.61991456 0.7613612 ]]\n",
      "\n",
      "  [[0.21907176 0.48411904 0.9046824  0.53429912 0.52198238]\n",
      "   [0.69717249 0.5314071  0.14602539 0.25965615 0.24532834]\n",
      "   [0.7483905  0.92840188 0.69900502 0.4912435  0.61637439]\n",
      "   [0.59298341 0.97989622 0.64050102 0.17863906 0.91442552]]]]\n"
     ]
    }
   ],
   "source": [
    "c = np.random.random((2,3,4,5))\n",
    "print(c)"
   ]
  },
  {
   "cell_type": "markdown",
   "metadata": {},
   "source": [
    "This time, we got two groups of three 4 x 5 matrices.\n",
    "\n",
    "\n",
    "# Extracting Data from Arrays\n",
    "\n",
    "Extracting elements from arrays works just like it does for other Python data structures. We just need to reference the indexes of the values we want to extract. Below are some examples of how to reference specific rows, columns, and values in a two dimensional array."
   ]
  },
  {
   "cell_type": "code",
   "execution_count": 6,
   "metadata": {},
   "outputs": [
    {
     "name": "stdout",
     "output_type": "stream",
     "text": [
      "[0.7454181  0.6264548  0.55680768 0.09265799]\n"
     ]
    }
   ],
   "source": [
    "# First row of matrix a\n",
    "print(a[0])"
   ]
  },
  {
   "cell_type": "code",
   "execution_count": 7,
   "metadata": {},
   "outputs": [
    {
     "name": "stdout",
     "output_type": "stream",
     "text": [
      "[0.7454181  0.86551166 0.02759385 0.01118704 0.2588613  0.40207664\n",
      " 0.20789402 0.60760389 0.45899181 0.66408416]\n"
     ]
    }
   ],
   "source": [
    "# First column of matrix a\n",
    "print(a[:,0])"
   ]
  },
  {
   "cell_type": "code",
   "execution_count": 8,
   "metadata": {},
   "outputs": [
    {
     "name": "stdout",
     "output_type": "stream",
     "text": [
      "0.7897197293507984\n"
     ]
    }
   ],
   "source": [
    "# Value in the fifth row and third column of matrix a\n",
    "print(a[4,2])"
   ]
  },
  {
   "cell_type": "markdown",
   "metadata": {},
   "source": [
    "What about arrays that have more than two dimensions? You just pass a list of indexes for the values you want, and it will return the corresponding dimensions or values."
   ]
  },
  {
   "cell_type": "code",
   "execution_count": 9,
   "metadata": {},
   "outputs": [
    {
     "name": "stdout",
     "output_type": "stream",
     "text": [
      "[[[0.10435603 0.33964495 0.78070374 0.05694797 0.4615027 ]\n",
      "  [0.01249393 0.01045173 0.70506115 0.73759791 0.79525957]\n",
      "  [0.84101294 0.42813927 0.01949549 0.24258518 0.03320001]\n",
      "  [0.90366433 0.33773876 0.02348868 0.37909198 0.80234439]]\n",
      "\n",
      " [[0.23794693 0.05076687 0.6384237  0.70165421 0.99322192]\n",
      "  [0.1303115  0.68735812 0.99261499 0.40798406 0.50096881]\n",
      "  [0.61471085 0.87350267 0.32639371 0.00312349 0.22981534]\n",
      "  [0.36161069 0.87300582 0.27851529 0.62270584 0.26584262]]\n",
      "\n",
      " [[0.21081974 0.89030868 0.56793416 0.38302276 0.35228488]\n",
      "  [0.90881415 0.67421737 0.59704191 0.16881323 0.49036516]\n",
      "  [0.12375724 0.99356255 0.2645368  0.31213082 0.38655586]\n",
      "  [0.38791552 0.02575711 0.38248978 0.61696799 0.87205749]]]\n"
     ]
    }
   ],
   "source": [
    "# First group of array c\n",
    "print(c[0])"
   ]
  },
  {
   "cell_type": "code",
   "execution_count": 10,
   "metadata": {},
   "outputs": [
    {
     "name": "stdout",
     "output_type": "stream",
     "text": [
      "[[0.23794693 0.05076687 0.6384237  0.70165421 0.99322192]\n",
      " [0.1303115  0.68735812 0.99261499 0.40798406 0.50096881]\n",
      " [0.61471085 0.87350267 0.32639371 0.00312349 0.22981534]\n",
      " [0.36161069 0.87300582 0.27851529 0.62270584 0.26584262]]\n"
     ]
    }
   ],
   "source": [
    "# Second subgroup of the first group\n",
    "print(c[0,1])"
   ]
  },
  {
   "cell_type": "code",
   "execution_count": 11,
   "metadata": {},
   "outputs": [
    {
     "name": "stdout",
     "output_type": "stream",
     "text": [
      "[0.61471085 0.87350267 0.32639371 0.00312349 0.22981534]\n"
     ]
    }
   ],
   "source": [
    "# Third row of the second subgroup\n",
    "print(c[0,1,2])"
   ]
  },
  {
   "cell_type": "code",
   "execution_count": 12,
   "metadata": {},
   "outputs": [
    {
     "name": "stdout",
     "output_type": "stream",
     "text": [
      "[0.70165421 0.40798406 0.00312349 0.62270584]\n"
     ]
    }
   ],
   "source": [
    "# Fourth column of the second subgroup\n",
    "print(c[0,1,:,3])"
   ]
  },
  {
   "cell_type": "code",
   "execution_count": 13,
   "metadata": {},
   "outputs": [
    {
     "name": "stdout",
     "output_type": "stream",
     "text": [
      "0.0031234912340785126\n"
     ]
    }
   ],
   "source": [
    "# Value in the third row and fourth column of the second subgroup\n",
    "print(c[0,1,2,3])"
   ]
  },
  {
   "cell_type": "markdown",
   "metadata": {},
   "source": [
    "# Converting Other Data Structures to Arrays\n",
    "\n",
    "If you have data in another type of data structure and you would like to convert it to an array so that you can take advantage of Numpy's mathematical functions, you can convert them using the array() method as follows. "
   ]
  },
  {
   "cell_type": "code",
   "execution_count": 14,
   "metadata": {},
   "outputs": [
    {
     "name": "stdout",
     "output_type": "stream",
     "text": [
      "[[1 2 3]\n",
      " [4 5 6]\n",
      " [7 8 9]]\n"
     ]
    }
   ],
   "source": [
    "lst_lst = [[1,2,3],[4,5,6],[7,8,9]]\n",
    "d = np.array(lst_lst)\n",
    "print(d)"
   ]
  },
  {
   "cell_type": "markdown",
   "metadata": {},
   "source": [
    "This works the same way whether you have a list of lists, a list of tuples, a tuple of lists, or a tuple of tuples.\n",
    "\n",
    "\n",
    "\n",
    "\n",
    "# Numpy Math Functions\n",
    "\n",
    "Now that we know how to create and navigate arrays, let's take a look at how to perform mathematical calculations on them.\n",
    "\n",
    "One of the most common (and useful) functions is np.sum, which lets you obtain the sum of any elements you select from an array. "
   ]
  },
  {
   "cell_type": "code",
   "execution_count": 15,
   "metadata": {},
   "outputs": [
    {
     "name": "stdout",
     "output_type": "stream",
     "text": [
      "19.36106835210032\n"
     ]
    }
   ],
   "source": [
    "# Sum of all elements in matrix a\n",
    "print(np.sum(a))"
   ]
  },
  {
   "cell_type": "code",
   "execution_count": 16,
   "metadata": {},
   "outputs": [
    {
     "name": "stdout",
     "output_type": "stream",
     "text": [
      "[4.24922247 4.84808247 4.19116356 6.07259985]\n"
     ]
    }
   ],
   "source": [
    "# Sum of each column in matrix a\n",
    "print(np.sum(a, axis=0))"
   ]
  },
  {
   "cell_type": "code",
   "execution_count": 17,
   "metadata": {},
   "outputs": [
    {
     "name": "stdout",
     "output_type": "stream",
     "text": [
      "[2.02133856 2.52069422 0.87258152 1.81080946 2.14833568 2.25317913\n",
      " 1.67579268 1.75768512 2.43177063 1.86888134]\n"
     ]
    }
   ],
   "source": [
    "# Sum of each row in matrix a\n",
    "print(np.sum(a, axis=1))"
   ]
  },
  {
   "cell_type": "code",
   "execution_count": 18,
   "metadata": {},
   "outputs": [
    {
     "data": {
      "text/plain": [
       "6.192263715464242"
      ]
     },
     "execution_count": 18,
     "metadata": {},
     "output_type": "execute_result"
    }
   ],
   "source": [
    "# Sum of all the elements in the first two groups of array b\n",
    "np.sum(b[:2])"
   ]
  },
  {
   "cell_type": "markdown",
   "metadata": {},
   "source": [
    "The np.mean function works the same way and is also very useful. "
   ]
  },
  {
   "cell_type": "code",
   "execution_count": 19,
   "metadata": {},
   "outputs": [
    {
     "name": "stdout",
     "output_type": "stream",
     "text": [
      "0.48402670880250803\n"
     ]
    }
   ],
   "source": [
    "# Mean of all elements in matrix a\n",
    "print(np.mean(a))"
   ]
  },
  {
   "cell_type": "code",
   "execution_count": 20,
   "metadata": {},
   "outputs": [
    {
     "name": "stdout",
     "output_type": "stream",
     "text": [
      "[0.42492225 0.48480825 0.41911636 0.60725998]\n"
     ]
    }
   ],
   "source": [
    "# Mean of each column in matrix a\n",
    "print(np.mean(a, axis=0))"
   ]
  },
  {
   "cell_type": "code",
   "execution_count": 21,
   "metadata": {},
   "outputs": [
    {
     "name": "stdout",
     "output_type": "stream",
     "text": [
      "[0.50533464 0.63017356 0.21814538 0.45270236 0.53708392 0.56329478\n",
      " 0.41894817 0.43942128 0.60794266 0.46722034]\n"
     ]
    }
   ],
   "source": [
    "# Mean of each row in matrix a\n",
    "print(np.mean(a, axis=1))"
   ]
  },
  {
   "cell_type": "code",
   "execution_count": 22,
   "metadata": {},
   "outputs": [
    {
     "data": {
      "text/plain": [
       "0.5160219762886868"
      ]
     },
     "execution_count": 22,
     "metadata": {},
     "output_type": "execute_result"
    }
   ],
   "source": [
    "# Mean of all the elements in the first two groups of array b\n",
    "np.mean(b[:2])"
   ]
  },
  {
   "cell_type": "markdown",
   "metadata": {},
   "source": [
    "In addition to letting you perform calculations on individual arrays, Numpy also lets you perform calculations between arrays. For example, let's select two of the subarrays from array c to illustrate how this works."
   ]
  },
  {
   "cell_type": "code",
   "execution_count": 23,
   "metadata": {},
   "outputs": [
    {
     "name": "stdout",
     "output_type": "stream",
     "text": [
      "[[0.10435603 0.33964495 0.78070374 0.05694797 0.4615027 ]\n",
      " [0.01249393 0.01045173 0.70506115 0.73759791 0.79525957]\n",
      " [0.84101294 0.42813927 0.01949549 0.24258518 0.03320001]\n",
      " [0.90366433 0.33773876 0.02348868 0.37909198 0.80234439]]\n"
     ]
    }
   ],
   "source": [
    "x = c[0,0]\n",
    "print(x)"
   ]
  },
  {
   "cell_type": "code",
   "execution_count": 24,
   "metadata": {},
   "outputs": [
    {
     "name": "stdout",
     "output_type": "stream",
     "text": [
      "[[0.23794693 0.05076687 0.6384237  0.70165421 0.99322192]\n",
      " [0.1303115  0.68735812 0.99261499 0.40798406 0.50096881]\n",
      " [0.61471085 0.87350267 0.32639371 0.00312349 0.22981534]\n",
      " [0.36161069 0.87300582 0.27851529 0.62270584 0.26584262]]\n"
     ]
    }
   ],
   "source": [
    "y = c[0,1]\n",
    "print(y)"
   ]
  },
  {
   "cell_type": "markdown",
   "metadata": {},
   "source": [
    "We can now add, subtract, multiply, and divide the two arrays."
   ]
  },
  {
   "cell_type": "code",
   "execution_count": 25,
   "metadata": {},
   "outputs": [
    {
     "name": "stdout",
     "output_type": "stream",
     "text": [
      "[[0.34230296 0.39041182 1.41912744 0.75860217 1.45472462]\n",
      " [0.14280543 0.69780985 1.69767614 1.14558197 1.29622838]\n",
      " [1.45572379 1.30164194 0.3458892  0.24570867 0.26301535]\n",
      " [1.26527502 1.21074459 0.30200397 1.00179782 1.06818701]]\n"
     ]
    }
   ],
   "source": [
    "# Add elements of x and y together\n",
    "print(np.add(x, y))"
   ]
  },
  {
   "cell_type": "code",
   "execution_count": 26,
   "metadata": {},
   "outputs": [
    {
     "name": "stdout",
     "output_type": "stream",
     "text": [
      "[[ 0.1335909  -0.28887808 -0.14228004  0.64470624  0.53171923]\n",
      " [ 0.11781757  0.67690639  0.28755384 -0.32961385 -0.29429076]\n",
      " [-0.22630209  0.4453634   0.30689822 -0.23946169  0.19661534]\n",
      " [-0.54205363  0.53526706  0.25502661  0.24361386 -0.53650177]]\n"
     ]
    }
   ],
   "source": [
    "# Subtract elements of x from elements of y\n",
    "print(np.subtract(y, x))"
   ]
  },
  {
   "cell_type": "code",
   "execution_count": 27,
   "metadata": {},
   "outputs": [
    {
     "name": "stdout",
     "output_type": "stream",
     "text": [
      "[[0.0248312  0.01724271 0.49841977 0.03995778 0.4583746 ]\n",
      " [0.0016281  0.00718408 0.69985427 0.30092819 0.39840024]\n",
      " [0.51697978 0.3739808  0.0063632  0.00075771 0.00762987]\n",
      " [0.32677468 0.29484791 0.00654196 0.23606279 0.21329734]]\n"
     ]
    }
   ],
   "source": [
    "# Multiply elements of x and y together\n",
    "print(np.multiply(x, y))"
   ]
  },
  {
   "cell_type": "code",
   "execution_count": 28,
   "metadata": {},
   "outputs": [
    {
     "name": "stdout",
     "output_type": "stream",
     "text": [
      "[[2.28014553e+00 1.49470407e-01 8.17754116e-01 1.23209701e+01\n",
      "  2.15214760e+00]\n",
      " [1.04299858e+01 6.57650372e+01 1.40784241e+00 5.53125293e-01\n",
      "  6.29943771e-01]\n",
      " [7.30917229e-01 2.04023019e+00 1.67420134e+01 1.28758535e-02\n",
      "  6.92214751e+00]\n",
      " [4.00160418e-01 2.58485528e+00 1.18574268e+01 1.64262467e+00\n",
      "  3.31332313e-01]]\n"
     ]
    }
   ],
   "source": [
    "# Divide elements of y by elements of x\n",
    "print(np.divide(y, x))"
   ]
  },
  {
   "cell_type": "markdown",
   "metadata": {},
   "source": [
    "This is only the tip of the iceberg. Numpy has many more functions, which you can and should explore. You can read more about them in the [Numpy documentation](https://docs.scipy.org/doc/numpy-1.13.0/reference/routines.math.html). "
   ]
  },
  {
   "cell_type": "code",
   "execution_count": null,
   "metadata": {},
   "outputs": [],
   "source": []
  }
 ],
 "metadata": {
  "kernelspec": {
   "display_name": "Python 3",
   "language": "python",
   "name": "python3"
  },
  "language_info": {
   "codemirror_mode": {
    "name": "ipython",
    "version": 3
   },
   "file_extension": ".py",
   "mimetype": "text/x-python",
   "name": "python",
   "nbconvert_exporter": "python",
   "pygments_lexer": "ipython3",
   "version": "3.9.2"
  }
 },
 "nbformat": 4,
 "nbformat_minor": 2
}
